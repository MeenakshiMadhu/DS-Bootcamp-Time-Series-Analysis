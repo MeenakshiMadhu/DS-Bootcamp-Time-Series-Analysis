{
 "cells": [
  {
   "cell_type": "markdown",
   "id": "eef5003c-4868-4755-8ae1-7c0ce640c2b9",
   "metadata": {},
   "source": [
    "# Finance & Economics Data - Time Series Analysis"
   ]
  },
  {
   "cell_type": "markdown",
   "id": "3a6217cf-886d-4c19-ace0-d3d864e79fee",
   "metadata": {},
   "source": [
    "## Team - Econometrics"
   ]
  },
  {
   "cell_type": "markdown",
   "id": "46181810-1ac1-4ff3-8a4d-0954f1fa9e14",
   "metadata": {},
   "source": [
    "#### Dataset used - Finance & Economics Dataset (2000 - Present) (https://www.kaggle.com/datasets/khushikyad001/finance-and-economics-dataset-2000-present)"
   ]
  },
  {
   "cell_type": "code",
   "execution_count": null,
   "id": "c0eb3f71-e8de-4f00-92ee-c01cdd50da50",
   "metadata": {},
   "outputs": [],
   "source": []
  }
 ],
 "metadata": {
  "kernelspec": {
   "display_name": "Python 3 (ipykernel)",
   "language": "python",
   "name": "python3"
  },
  "language_info": {
   "codemirror_mode": {
    "name": "ipython",
    "version": 3
   },
   "file_extension": ".py",
   "mimetype": "text/x-python",
   "name": "python",
   "nbconvert_exporter": "python",
   "pygments_lexer": "ipython3",
   "version": "3.9.6"
  }
 },
 "nbformat": 4,
 "nbformat_minor": 5
}
